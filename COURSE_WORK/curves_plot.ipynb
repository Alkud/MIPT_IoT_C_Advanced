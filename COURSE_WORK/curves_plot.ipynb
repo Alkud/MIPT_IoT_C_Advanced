{
 "cells": [
  {
   "cell_type": "code",
   "id": "initial_id",
   "metadata": {
    "collapsed": true,
    "ExecuteTime": {
     "end_time": "2025-02-23T14:33:57.371462Z",
     "start_time": "2025-02-23T14:33:57.346790Z"
    }
   },
   "source": [
    "from matplotlib import pyplot as plt\n",
    "import numpy as np\n",
    "from scipy import optimize\n",
    "from scipy import integrate"
   ],
   "outputs": [],
   "execution_count": 85
  },
  {
   "metadata": {
    "ExecuteTime": {
     "end_time": "2025-02-22T15:27:00.570772Z",
     "start_time": "2025-02-22T15:27:00.566318Z"
    }
   },
   "cell_type": "code",
   "source": [
    "def bisections(func, lower_bound, upper_bound, eps):\n",
    "    if func(lower_bound) * func(upper_bound) > 0:\n",
    "        return None\n",
    "    x0 = (lower_bound + upper_bound) / 2.0\n",
    "    while abs(lower_bound - upper_bound) >= eps: # func(x0)\n",
    "        if func(lower_bound) * func(x0) > 0:\n",
    "            lower_bound = x0\n",
    "        else:\n",
    "            upper_bound = x0\n",
    "        x0 = (lower_bound + upper_bound) / 2.0\n",
    "    return x0"
   ],
   "id": "d808def38af9092a",
   "outputs": [],
   "execution_count": 2
  },
  {
   "metadata": {
    "ExecuteTime": {
     "end_time": "2025-02-22T15:27:00.734329Z",
     "start_time": "2025-02-22T15:27:00.728199Z"
    }
   },
   "cell_type": "code",
   "source": [
    "def func1(_x):\n",
    "    return 0.6 * _x + 3\n",
    "\n",
    "def func2(_x):\n",
    "    return (_x - 2)**3 -1\n",
    "\n",
    "def func3(_x):\n",
    "    return 3 / _x\n",
    "\n",
    "def func13(_x):\n",
    "    return func1(_x) - func3(_x)\n",
    "\n",
    "def func23(_x):\n",
    "    return func2(_x) - func3(_x)"
   ],
   "id": "236ca1c3103dba5b",
   "outputs": [],
   "execution_count": 3
  },
  {
   "metadata": {
    "ExecuteTime": {
     "end_time": "2025-02-23T10:47:34.654360Z",
     "start_time": "2025-02-23T10:47:34.651125Z"
    }
   },
   "cell_type": "code",
   "source": "EPS1 = 1e-14",
   "id": "355b58c1a6f51f2e",
   "outputs": [],
   "execution_count": 71
  },
  {
   "metadata": {
    "ExecuteTime": {
     "end_time": "2025-02-23T10:47:35.037178Z",
     "start_time": "2025-02-23T10:47:35.030320Z"
    }
   },
   "cell_type": "code",
   "source": [
    "xi0 = bisections(func13, -6.0, -5.0, EPS1)\n",
    "xi0, func13(xi0)"
   ],
   "id": "c2cf037b7ad12126",
   "outputs": [
    {
     "data": {
      "text/plain": [
       "(-5.854101966249683, 1.1102230246251565e-15)"
      ]
     },
     "execution_count": 72,
     "metadata": {},
     "output_type": "execute_result"
    }
   ],
   "execution_count": 72
  },
  {
   "metadata": {
    "ExecuteTime": {
     "end_time": "2025-02-23T10:47:36.284647Z",
     "start_time": "2025-02-23T10:47:36.274262Z"
    }
   },
   "cell_type": "code",
   "source": [
    "t0 = optimize.brentq(func13, -6.0, -5.0)\n",
    "t0, func13(t0)"
   ],
   "id": "2f452225bebef020",
   "outputs": [
    {
     "data": {
      "text/plain": [
       "(-5.854101966249685, 1.1102230246251565e-16)"
      ]
     },
     "execution_count": 73,
     "metadata": {},
     "output_type": "execute_result"
    }
   ],
   "execution_count": 73
  },
  {
   "metadata": {
    "ExecuteTime": {
     "end_time": "2025-02-23T10:47:40.019203Z",
     "start_time": "2025-02-23T10:47:40.010989Z"
    }
   },
   "cell_type": "code",
   "source": [
    "xi1 = bisections(func1, -6.0, -4.0, EPS1)\n",
    "xi1, func1(xi1)"
   ],
   "id": "779f272bcdcf5f0f",
   "outputs": [
    {
     "data": {
      "text/plain": [
       "(-5.0000000000000036, -2.220446049250313e-15)"
      ]
     },
     "execution_count": 74,
     "metadata": {},
     "output_type": "execute_result"
    }
   ],
   "execution_count": 74
  },
  {
   "metadata": {
    "ExecuteTime": {
     "end_time": "2025-02-23T10:47:42.101692Z",
     "start_time": "2025-02-23T10:47:42.092324Z"
    }
   },
   "cell_type": "code",
   "source": [
    "t1 = optimize.brentq(func1, -6.0, -4.0)\n",
    "t1, func1(t1)"
   ],
   "id": "be614b09f80e4d87",
   "outputs": [
    {
     "data": {
      "text/plain": [
       "(-5.0, 0.0)"
      ]
     },
     "execution_count": 75,
     "metadata": {},
     "output_type": "execute_result"
    }
   ],
   "execution_count": 75
  },
  {
   "metadata": {
    "ExecuteTime": {
     "end_time": "2025-02-23T10:47:43.249677Z",
     "start_time": "2025-02-23T10:47:43.241044Z"
    }
   },
   "cell_type": "code",
   "source": [
    "xi2 = bisections(func23, -1.0, -0.01, EPS1)\n",
    "xi2, func23(xi2)"
   ],
   "id": "adab4ff4ef116a18",
   "outputs": [
    {
     "data": {
      "text/plain": [
       "(-0.24392885390371508, -9.947598300641403e-14)"
      ]
     },
     "execution_count": 76,
     "metadata": {},
     "output_type": "execute_result"
    }
   ],
   "execution_count": 76
  },
  {
   "metadata": {
    "ExecuteTime": {
     "end_time": "2025-02-23T10:47:44.269361Z",
     "start_time": "2025-02-23T10:47:44.264407Z"
    }
   },
   "cell_type": "code",
   "source": [
    "t2 = optimize.brentq(func23, -1.0, -0.01)\n",
    "t2, func23(t2)"
   ],
   "id": "f4f53a68126bb5c",
   "outputs": [
    {
     "data": {
      "text/plain": [
       "(-0.2439288539037136, 1.7763568394002505e-15)"
      ]
     },
     "execution_count": 77,
     "metadata": {},
     "output_type": "execute_result"
    }
   ],
   "execution_count": 77
  },
  {
   "metadata": {
    "ExecuteTime": {
     "end_time": "2025-02-23T10:47:45.599734Z",
     "start_time": "2025-02-23T10:47:45.099501Z"
    }
   },
   "cell_type": "code",
   "source": [
    "xi3 = bisections(func13, 0.01, 1.0, EPS1)\n",
    "xi3, func13(xi3)"
   ],
   "id": "c2aefe8a78dbcbff",
   "outputs": [
    {
     "data": {
      "text/plain": [
       "(0.8541019662496812, -1.5987211554602254e-14)"
      ]
     },
     "execution_count": 78,
     "metadata": {},
     "output_type": "execute_result"
    }
   ],
   "execution_count": 78
  },
  {
   "metadata": {
    "ExecuteTime": {
     "end_time": "2025-02-23T10:47:45.978211Z",
     "start_time": "2025-02-23T10:47:45.969404Z"
    }
   },
   "cell_type": "code",
   "source": [
    "t3 = optimize.brentq(func13, 0.01, 1.0)\n",
    "t3, func13(t3)"
   ],
   "id": "de8c2573ebdc7b03",
   "outputs": [
    {
     "data": {
      "text/plain": [
       "(0.8541019662498792, 9.174883075502294e-13)"
      ]
     },
     "execution_count": 79,
     "metadata": {},
     "output_type": "execute_result"
    }
   ],
   "execution_count": 79
  },
  {
   "metadata": {
    "ExecuteTime": {
     "end_time": "2025-02-23T10:47:46.930944Z",
     "start_time": "2025-02-23T10:47:46.923272Z"
    }
   },
   "cell_type": "code",
   "source": [
    "xi4 = bisections(func2, 2.0, 4.0, EPS1)\n",
    "xi4, func2(xi4)"
   ],
   "id": "6b88e8ef40296fd0",
   "outputs": [
    {
     "data": {
      "text/plain": [
       "(2.9999999999999964, -1.0658141036401503e-14)"
      ]
     },
     "execution_count": 80,
     "metadata": {},
     "output_type": "execute_result"
    }
   ],
   "execution_count": 80
  },
  {
   "metadata": {
    "ExecuteTime": {
     "end_time": "2025-02-23T10:47:47.930784Z",
     "start_time": "2025-02-23T10:47:47.923203Z"
    }
   },
   "cell_type": "code",
   "source": [
    "t4 = optimize.brentq(func2, 2.0, 4.0)\n",
    "t4, func2(t4)"
   ],
   "id": "36015ada1905847a",
   "outputs": [
    {
     "data": {
      "text/plain": [
       "(3.0, 0.0)"
      ]
     },
     "execution_count": 81,
     "metadata": {},
     "output_type": "execute_result"
    }
   ],
   "execution_count": 81
  },
  {
   "metadata": {
    "ExecuteTime": {
     "end_time": "2025-02-23T10:47:48.821746Z",
     "start_time": "2025-02-23T10:47:48.813613Z"
    }
   },
   "cell_type": "code",
   "source": [
    "xi5= bisections(func23, 2.0, 4.0, EPS1)\n",
    "xi5, func23(xi5)"
   ],
   "id": "7f20a5c53a6c8939",
   "outputs": [
    {
     "data": {
      "text/plain": [
       "(3.2439288539037143, 3.774758283725532e-15)"
      ]
     },
     "execution_count": 82,
     "metadata": {},
     "output_type": "execute_result"
    }
   ],
   "execution_count": 82
  },
  {
   "metadata": {
    "ExecuteTime": {
     "end_time": "2025-02-23T10:47:49.935085Z",
     "start_time": "2025-02-23T10:47:49.927231Z"
    }
   },
   "cell_type": "code",
   "source": [
    "t5 = optimize.brentq(func23, 2.0, 4.0)\n",
    "t5, func23(t5)"
   ],
   "id": "9a7e3bab7e3c27b5",
   "outputs": [
    {
     "data": {
      "text/plain": [
       "(3.2439288539037134, -7.771561172376096e-16)"
      ]
     },
     "execution_count": 83,
     "metadata": {},
     "output_type": "execute_result"
    }
   ],
   "execution_count": 83
  },
  {
   "metadata": {
    "ExecuteTime": {
     "end_time": "2025-02-22T15:27:28.260370Z",
     "start_time": "2025-02-22T15:27:28.255639Z"
    }
   },
   "cell_type": "code",
   "source": [
    "x = np.arange(-10.005, 10.005, 0.01)\n",
    "x1 = np.arange(-10.005, -0.005, 0.01)\n",
    "x2 = np.arange(0.005, 10.005, 0.01)"
   ],
   "id": "3541488ea453d9f",
   "outputs": [],
   "execution_count": 13
  },
  {
   "metadata": {
    "ExecuteTime": {
     "end_time": "2025-02-22T15:27:28.856639Z",
     "start_time": "2025-02-22T15:27:28.850853Z"
    }
   },
   "cell_type": "code",
   "source": [
    "f1 = 0.6*x+3\n",
    "f2 = (x-2)**3-1\n",
    "f31 = 3/x1\n",
    "f32 = 3/x2\n"
   ],
   "id": "181eb90608186d3c",
   "outputs": [],
   "execution_count": 14
  },
  {
   "metadata": {
    "ExecuteTime": {
     "end_time": "2025-02-22T15:27:30.241435Z",
     "start_time": "2025-02-22T15:27:29.706051Z"
    }
   },
   "cell_type": "code",
   "source": [
    "fig, ax = plt.subplots(1,1,figsize=(5,10))\n",
    "\n",
    "ax.plot(x, f1, label=r\"$0.6 \\cdot x + 3$\", color='steelblue')\n",
    "ax.plot(x, f2, label=r\"$(x-2)^3-1$\", color='darkorange')\n",
    "ax.plot(x1, f31, label=r\"$\\frac{3}{x}$\", color='darkgreen')\n",
    "ax.plot(x2, f32, color='darkgreen')\n",
    "ax.set_xlim(-6.5, 3.5)\n",
    "ax.set_ylim(-15.0, 5.0)\n",
    "ax.axhline(0.0, color='black', ls='-')\n",
    "ax.axvline(xi0, color='darkgrey', ls='--')\n",
    "ax.axvline(xi1, color='darkgrey', ls='--')\n",
    "ax.axvline(xi2, color='darkgrey', ls='--')\n",
    "ax.axvline(xi3, color='darkgrey', ls='--')\n",
    "ax.axvline(xi4, color='darkgrey', ls='--')\n",
    "ax.axvline(xi5, color='darkgrey', ls='--')\n",
    "ax.set_xticks(np.arange(-6, 4, 1))\n",
    "ax.set_yticks(np.arange(-14, 4, 1))\n",
    "ax.grid()\n",
    "ax.legend();"
   ],
   "id": "d5c24f6f4dbeeb2e",
   "outputs": [
    {
     "data": {
      "text/plain": [
       "<Figure size 500x1000 with 1 Axes>"
      ],
      "image/png": "[encoded data removed]"
     },
     "metadata": {},
     "output_type": "display_data"
    }
   ],
   "execution_count": 15
  },
  {
   "metadata": {
    "ExecuteTime": {
     "end_time": "2025-02-22T15:27:30.507374Z",
     "start_time": "2025-02-22T15:27:30.502695Z"
    }
   },
   "cell_type": "code",
   "source": [
    "def simpson(func, a, b, eps):\n",
    "    n = int(round((b - a) / eps))\n",
    "    _x = [a + i*eps for i in range (1 ,n)]\n",
    "    #Расчет подынтегральной суммы\n",
    "    #s1 - сумма элементов с нечетными индексами\n",
    "    #s2 - сумма элементов с четными индексами\n",
    "    s1 , s2 = 0 , 0\n",
    "    for i in range(len(_x)):\n",
    "        if i % 2 != 0:\n",
    "            s1 += func(_x[i])\n",
    "        else:\n",
    "            s2 += func(_x[i])\n",
    "    return eps / 3 * (func(a) + 2 * s1 + 4 * s2 + func(b))"
   ],
   "id": "ed11065801f33199",
   "outputs": [],
   "execution_count": 16
  },
  {
   "metadata": {
    "ExecuteTime": {
     "end_time": "2025-02-22T15:27:40.608702Z",
     "start_time": "2025-02-22T15:27:40.602430Z"
    }
   },
   "cell_type": "code",
   "source": "EPS2 = 1e-6",
   "id": "40bb131bd5fe3c1b",
   "outputs": [],
   "execution_count": 17
  },
  {
   "metadata": {
    "ExecuteTime": {
     "end_time": "2025-02-22T15:36:24.529730Z",
     "start_time": "2025-02-22T15:36:23.254222Z"
    }
   },
   "cell_type": "code",
   "source": [
    "s_lower_0 = abs(simpson(func3, xi0, xi2, EPS2))\n",
    "s_lower_0"
   ],
   "id": "4ae1e4f949023dee",
   "outputs": [
    {
     "data": {
      "text/plain": [
       "9.534058373467115"
      ]
     },
     "execution_count": 29,
     "metadata": {},
     "output_type": "execute_result"
    }
   ],
   "execution_count": 29
  },
  {
   "metadata": {
    "ExecuteTime": {
     "end_time": "2025-02-22T15:36:30.470327Z",
     "start_time": "2025-02-22T15:36:30.252095Z"
    }
   },
   "cell_type": "code",
   "source": [
    "s_lower_1 = abs(simpson(func1, xi0, xi1, EPS2))\n",
    "s_lower_1"
   ],
   "id": "a1d6c31d0d130e47",
   "outputs": [
    {
     "data": {
      "text/plain": [
       "0.21884705062547874"
      ]
     },
     "execution_count": 30,
     "metadata": {},
     "output_type": "execute_result"
    }
   ],
   "execution_count": 30
  },
  {
   "metadata": {
    "ExecuteTime": {
     "end_time": "2025-02-22T15:36:39.301507Z",
     "start_time": "2025-02-22T15:36:38.314985Z"
    }
   },
   "cell_type": "code",
   "source": [
    "s_lower_2 = abs(simpson(func2, xi2, xi4, EPS2))\n",
    "s_lower_2"
   ],
   "id": "9f70a643aceec9da",
   "outputs": [
    {
     "data": {
      "text/plain": [
       "9.332280661371962"
      ]
     },
     "execution_count": 31,
     "metadata": {},
     "output_type": "execute_result"
    }
   ],
   "execution_count": 31
  },
  {
   "metadata": {
    "ExecuteTime": {
     "end_time": "2025-02-22T15:31:58.728671Z",
     "start_time": "2025-02-22T15:31:57.250999Z"
    }
   },
   "cell_type": "code",
   "source": [
    "s_upper_0 = simpson(func1, xi1, xi3, EPS2)\n",
    "s_upper_0"
   ],
   "id": "b0f4f13ff7e9bd36",
   "outputs": [
    {
     "data": {
      "text/plain": [
       "10.281153067921183"
      ]
     },
     "execution_count": 25,
     "metadata": {},
     "output_type": "execute_result"
    }
   ],
   "execution_count": 25
  },
  {
   "metadata": {
    "ExecuteTime": {
     "end_time": "2025-02-22T15:34:51.599820Z",
     "start_time": "2025-02-22T15:34:51.035783Z"
    }
   },
   "cell_type": "code",
   "source": [
    "s_upper_1 = simpson(func3, xi3, xi5, EPS2)\n",
    "s_upper_1"
   ],
   "id": "519c364dddf9b033",
   "outputs": [
    {
     "data": {
      "text/plain": [
       "4.003469490587398"
      ]
     },
     "execution_count": 26,
     "metadata": {},
     "output_type": "execute_result"
    }
   ],
   "execution_count": 26
  },
  {
   "metadata": {
    "ExecuteTime": {
     "end_time": "2025-02-22T15:35:43.441385Z",
     "start_time": "2025-02-22T15:35:43.349166Z"
    }
   },
   "cell_type": "code",
   "source": [
    "s_upper_2 = simpson(func2, xi4, xi5, EPS2)\n",
    "s_upper_2"
   ],
   "id": "3e01418266b14807",
   "outputs": [
    {
     "data": {
      "text/plain": [
       "0.10465093668773649"
      ]
     },
     "execution_count": 27,
     "metadata": {},
     "output_type": "execute_result"
    }
   ],
   "execution_count": 27
  },
  {
   "metadata": {
    "ExecuteTime": {
     "end_time": "2025-02-22T15:38:22.530436Z",
     "start_time": "2025-02-22T15:38:22.525376Z"
    }
   },
   "cell_type": "code",
   "source": [
    "S = (s_lower_0 - s_lower_1 + s_lower_2) + (s_upper_0 + s_upper_1 - s_upper_2)\n",
    "S"
   ],
   "id": "c160215ce1ff5539",
   "outputs": [
    {
     "data": {
      "text/plain": [
       "32.82746360603444"
      ]
     },
     "execution_count": 32,
     "metadata": {},
     "output_type": "execute_result"
    }
   ],
   "execution_count": 32
  },
  {
   "metadata": {
    "ExecuteTime": {
     "end_time": "2025-02-23T14:34:17.991240Z",
     "start_time": "2025-02-23T14:34:17.980208Z"
    }
   },
   "cell_type": "code",
   "source": "integrate.quad(func3, t0, t2, epsabs=1e-14)",
   "id": "183d56f64c9cac44",
   "outputs": [
    {
     "data": {
      "text/plain": [
       "(-9.53406385471627, 9.082740242840229e-11)"
      ]
     },
     "execution_count": 87,
     "metadata": {},
     "output_type": "execute_result"
    }
   ],
   "execution_count": 87
  },
  {
   "metadata": {
    "ExecuteTime": {
     "end_time": "2025-02-23T14:36:19.980386Z",
     "start_time": "2025-02-23T14:36:19.971914Z"
    }
   },
   "cell_type": "code",
   "source": "integrate.quad(func1, t0, t1, epsabs=1e-14)",
   "id": "5c453baeab8a5f5f",
   "outputs": [
    {
     "data": {
      "text/plain": [
       "(-0.2188470506254732, 2.429690344757076e-15)"
      ]
     },
     "execution_count": 88,
     "metadata": {},
     "output_type": "execute_result"
    }
   ],
   "execution_count": 88
  },
  {
   "metadata": {
    "ExecuteTime": {
     "end_time": "2025-02-23T14:37:00.549057Z",
     "start_time": "2025-02-23T14:37:00.539025Z"
    }
   },
   "cell_type": "code",
   "source": "integrate.quad(func2, t2, t4, epsabs=1e-14)",
   "id": "9ca2ca764c52d76a",
   "outputs": [
    {
     "data": {
      "text/plain": [
       "(-9.332280661371847, 1.0360912862519108e-13)"
      ]
     },
     "execution_count": 89,
     "metadata": {},
     "output_type": "execute_result"
    }
   ],
   "execution_count": 89
  },
  {
   "metadata": {
    "ExecuteTime": {
     "end_time": "2025-02-23T14:37:35.573905Z",
     "start_time": "2025-02-23T14:37:35.563076Z"
    }
   },
   "cell_type": "code",
   "source": "integrate.quad(func1, t1, t3, epsabs=1e-14)",
   "id": "c5f2f458fb208696",
   "outputs": [
    {
     "data": {
      "text/plain": [
       "(10.28115294937521, 1.1414372724089194e-13)"
      ]
     },
     "execution_count": 90,
     "metadata": {},
     "output_type": "execute_result"
    }
   ],
   "execution_count": 90
  },
  {
   "metadata": {
    "ExecuteTime": {
     "end_time": "2025-02-23T14:38:44.824340Z",
     "start_time": "2025-02-23T14:38:44.818708Z"
    }
   },
   "cell_type": "code",
   "source": "integrate.quad(func3, t3, t5, epsabs=1e-14)",
   "id": "79810314812a1966",
   "outputs": [
    {
     "data": {
      "text/plain": [
       "(4.003469694956835, 5.958370738704707e-11)"
      ]
     },
     "execution_count": 92,
     "metadata": {},
     "output_type": "execute_result"
    }
   ],
   "execution_count": 92
  },
  {
   "metadata": {
    "ExecuteTime": {
     "end_time": "2025-02-23T14:38:45.471115Z",
     "start_time": "2025-02-23T14:38:45.463220Z"
    }
   },
   "cell_type": "code",
   "source": "integrate.quad(func2, t4, t5, epsabs=1e-14)",
   "id": "2581ea06655aac0d",
   "outputs": [
    {
     "data": {
      "text/plain": [
       "(0.10465110984503151, 1.1618607170253037e-15)"
      ]
     },
     "execution_count": 93,
     "metadata": {},
     "output_type": "execute_result"
    }
   ],
   "execution_count": 93
  },
  {
   "metadata": {},
   "cell_type": "code",
   "outputs": [],
   "execution_count": null,
   "source": "",
   "id": "837a8c4eff898973"
  }
 ],
 "metadata": {
  "kernelspec": {
   "display_name": "Python 3",
   "language": "python",
   "name": "python3"
  },
  "language_info": {
   "codemirror_mode": {
    "name": "ipython",
    "version": 2
   },
   "file_extension": ".py",
   "mimetype": "text/x-python",
   "name": "python",
   "nbconvert_exporter": "python",
   "pygments_lexer": "ipython2",
   "version": "2.7.6"
  }
 },
 "nbformat": 4,
 "nbformat_minor": 5
}
